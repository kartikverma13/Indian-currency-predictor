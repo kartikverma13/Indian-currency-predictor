{
  "nbformat": 4,
  "nbformat_minor": 0,
  "metadata": {
    "colab": {
      "name": "chest_x-ray.ipynb",
      "provenance": [],
      "collapsed_sections": [],
      "mount_file_id": "1Q3lWnM3hIOxQ395fI5slmkw3fGdQ-HUy",
      "authorship_tag": "ABX9TyNZk/rYWerpD+ZPFqEzBBqS",
      "include_colab_link": true
    },
    "kernelspec": {
      "name": "python3",
      "display_name": "Python 3"
    },
    "accelerator": "GPU"
  },
  "cells": [
    {
      "cell_type": "markdown",
      "metadata": {
        "id": "view-in-github",
        "colab_type": "text"
      },
      "source": [
        "<a href=\"https://colab.research.google.com/github/kartikverma13/Indian-currency-predictor/blob/master/chest_x_ray.ipynb\" target=\"_parent\"><img src=\"https://colab.research.google.com/assets/colab-badge.svg\" alt=\"Open In Colab\"/></a>"
      ]
    },
    {
      "cell_type": "code",
      "metadata": {
        "id": "SSpw38LhKdd2",
        "colab_type": "code",
        "colab": {
          "base_uri": "https://localhost:8080/",
          "height": 122
        },
        "outputId": "fd203412-ed02-4310-cc70-6a3dc913f3aa"
      },
      "source": [
        "from google.colab import drive\n",
        "drive.mount('/content/gdrive', force_remount=True)"
      ],
      "execution_count": null,
      "outputs": [
        {
          "output_type": "stream",
          "text": [
            "Go to this URL in a browser: https://accounts.google.com/o/oauth2/auth?client_id=947318989803-6bn6qk8qdgf4n4g3pfee6491hc0brc4i.apps.googleusercontent.com&redirect_uri=urn%3aietf%3awg%3aoauth%3a2.0%3aoob&response_type=code&scope=email%20https%3a%2f%2fwww.googleapis.com%2fauth%2fdocs.test%20https%3a%2f%2fwww.googleapis.com%2fauth%2fdrive%20https%3a%2f%2fwww.googleapis.com%2fauth%2fdrive.photos.readonly%20https%3a%2f%2fwww.googleapis.com%2fauth%2fpeopleapi.readonly\n",
            "\n",
            "Enter your authorization code:\n",
            "··········\n",
            "Mounted at /content/gdrive\n"
          ],
          "name": "stdout"
        }
      ]
    },
    {
      "cell_type": "code",
      "metadata": {
        "id": "FGJ6VFSFKO-X",
        "colab_type": "code",
        "colab": {
          "base_uri": "https://localhost:8080/",
          "height": 34
        },
        "outputId": "9c9002a2-5a51-41d8-891b-14e04429f17f"
      },
      "source": [
        "import tensorflow as tf\n",
        "from keras.preprocessing.image import ImageDataGenerator"
      ],
      "execution_count": null,
      "outputs": [
        {
          "output_type": "stream",
          "text": [
            "Using TensorFlow backend.\n"
          ],
          "name": "stderr"
        }
      ]
    },
    {
      "cell_type": "code",
      "metadata": {
        "id": "6tfmvVHlH_mc",
        "colab_type": "code",
        "colab": {
          "base_uri": "https://localhost:8080/",
          "height": 34
        },
        "outputId": "b7846470-db4a-4928-dc66-195f3f98983f"
      },
      "source": [
        "train_datagen = ImageDataGenerator(rescale = 1./255,\n",
        "                                   shear_range = 0.2,\n",
        "                                   zoom_range = 0.2,\n",
        "                                   horizontal_flip = True)\n",
        "training_set = train_datagen.flow_from_directory('gdrive/My Drive/xray/chest_xray/train',\n",
        "                                                 target_size = (150, 150),\n",
        "                                                 batch_size = 32,\n",
        "                                                 class_mode = 'binary')"
      ],
      "execution_count": null,
      "outputs": [
        {
          "output_type": "stream",
          "text": [
            "Found 5229 images belonging to 2 classes.\n"
          ],
          "name": "stdout"
        }
      ]
    },
    {
      "cell_type": "code",
      "metadata": {
        "id": "6cB7GZYKH_WP",
        "colab_type": "code",
        "colab": {
          "base_uri": "https://localhost:8080/",
          "height": 34
        },
        "outputId": "62e4967d-eed3-4fbd-9511-0cfbf15d35fa"
      },
      "source": [
        "test_datagen = ImageDataGenerator(rescale = 1./255)\n",
        "test_set = test_datagen.flow_from_directory('gdrive/My Drive/xray/chest_xray/test',\n",
        "                                            target_size = (150, 150),\n",
        "                                            batch_size = 32,\n",
        "                                            class_mode = 'binary')"
      ],
      "execution_count": null,
      "outputs": [
        {
          "output_type": "stream",
          "text": [
            "Found 624 images belonging to 2 classes.\n"
          ],
          "name": "stdout"
        }
      ]
    },
    {
      "cell_type": "code",
      "metadata": {
        "id": "b_vsaCfx1o0C",
        "colab_type": "code",
        "colab": {}
      },
      "source": [
        "from keras.models import Sequential\n",
        "from keras.layers import Input, Dense, Activation, ZeroPadding2D, BatchNormalization, Flatten, Convolution2D,Conv2D\n",
        "from keras.layers import AveragePooling2D, MaxPooling2D, Dropout, GlobalMaxPooling2D, GlobalAveragePooling2D\n",
        "from keras.callbacks import TensorBoard\n",
        "from keras import applications\n"
      ],
      "execution_count": null,
      "outputs": []
    },
    {
      "cell_type": "code",
      "metadata": {
        "id": "sImRNNE40Rcx",
        "colab_type": "code",
        "colab": {
          "base_uri": "https://localhost:8080/",
          "height": 357
        },
        "outputId": "a5f6e4d3-cfed-4c2c-bb59-19a5443ee475"
      },
      "source": [
        "from keras.applications.vgg16 import VGG16\n",
        "\n",
        "input_shape=(150, 150, 3)\n",
        "num_classes=1\n",
        "tmodel_base = VGG16(weights='imagenet', include_top=False, input_shape=input_shape)\n",
        "    \n",
        "model = Sequential()\n",
        "model.add(tmodel_base)\n",
        "model.add(BatchNormalization())\n",
        "model.add(Dropout(0.25))\n",
        "model.add(Flatten())\n",
        "model.add(Dense(128, activation='relu'))\n",
        "model.add(Dense(num_classes, activation='sigmoid', name='output_layer'))\n",
        "model.summary()\n",
        "\n",
        "model.compile(loss='binary_crossentropy', optimizer='rmsprop', metrics=['accuracy'])\n"
      ],
      "execution_count": null,
      "outputs": [
        {
          "output_type": "stream",
          "text": [
            "Model: \"sequential_3\"\n",
            "_________________________________________________________________\n",
            "Layer (type)                 Output Shape              Param #   \n",
            "=================================================================\n",
            "vgg16 (Model)                (None, 4, 4, 512)         14714688  \n",
            "_________________________________________________________________\n",
            "batch_normalization_5 (Batch (None, 4, 4, 512)         2048      \n",
            "_________________________________________________________________\n",
            "dropout_5 (Dropout)          (None, 4, 4, 512)         0         \n",
            "_________________________________________________________________\n",
            "flatten_3 (Flatten)          (None, 8192)              0         \n",
            "_________________________________________________________________\n",
            "dense_3 (Dense)              (None, 128)               1048704   \n",
            "_________________________________________________________________\n",
            "output_layer (Dense)         (None, 1)                 129       \n",
            "=================================================================\n",
            "Total params: 15,765,569\n",
            "Trainable params: 15,764,545\n",
            "Non-trainable params: 1,024\n",
            "_________________________________________________________________\n"
          ],
          "name": "stdout"
        }
      ]
    },
    {
      "cell_type": "code",
      "metadata": {
        "id": "Bu7Bm1s8QfBa",
        "colab_type": "code",
        "colab": {
          "base_uri": "https://localhost:8080/",
          "height": 887
        },
        "outputId": "1136dcc5-72ca-4aca-d2d5-d1ae51255f7f"
      },
      "source": [
        "history = model.fit(x = training_set, validation_data = test_set, epochs = 25)"
      ],
      "execution_count": null,
      "outputs": [
        {
          "output_type": "stream",
          "text": [
            "Epoch 1/25\n",
            "164/164 [==============================] - 86s 526ms/step - loss: 0.4251 - accuracy: 0.8311 - val_loss: 2.3652 - val_accuracy: 0.4712\n",
            "Epoch 2/25\n",
            "164/164 [==============================] - 83s 508ms/step - loss: 0.3290 - accuracy: 0.8675 - val_loss: 4.2021 - val_accuracy: 0.6314\n",
            "Epoch 3/25\n",
            "164/164 [==============================] - 83s 508ms/step - loss: 0.2534 - accuracy: 0.8939 - val_loss: 0.4446 - val_accuracy: 0.7772\n",
            "Epoch 4/25\n",
            "164/164 [==============================] - 84s 512ms/step - loss: 0.2472 - accuracy: 0.9061 - val_loss: 0.3610 - val_accuracy: 0.8221\n",
            "Epoch 5/25\n",
            "164/164 [==============================] - 83s 509ms/step - loss: 0.2339 - accuracy: 0.9080 - val_loss: 1.0963 - val_accuracy: 0.6699\n",
            "Epoch 6/25\n",
            "164/164 [==============================] - 83s 507ms/step - loss: 0.2151 - accuracy: 0.9141 - val_loss: 0.8226 - val_accuracy: 0.7853\n",
            "Epoch 7/25\n",
            "164/164 [==============================] - 84s 510ms/step - loss: 0.1987 - accuracy: 0.9225 - val_loss: 0.4691 - val_accuracy: 0.8397\n",
            "Epoch 8/25\n",
            "164/164 [==============================] - 84s 513ms/step - loss: 0.1855 - accuracy: 0.9281 - val_loss: 0.5910 - val_accuracy: 0.8590\n",
            "Epoch 9/25\n",
            "164/164 [==============================] - 83s 508ms/step - loss: 0.1889 - accuracy: 0.9273 - val_loss: 3.9664 - val_accuracy: 0.6795\n",
            "Epoch 10/25\n",
            "164/164 [==============================] - 83s 507ms/step - loss: 0.1703 - accuracy: 0.9336 - val_loss: 0.4714 - val_accuracy: 0.7788\n",
            "Epoch 11/25\n",
            "164/164 [==============================] - 83s 508ms/step - loss: 0.1777 - accuracy: 0.9334 - val_loss: 0.2817 - val_accuracy: 0.8766\n",
            "Epoch 12/25\n",
            "164/164 [==============================] - 84s 510ms/step - loss: 0.1593 - accuracy: 0.9400 - val_loss: 1.5755 - val_accuracy: 0.7804\n",
            "Epoch 13/25\n",
            "164/164 [==============================] - 83s 509ms/step - loss: 0.1490 - accuracy: 0.9434 - val_loss: 0.6709 - val_accuracy: 0.8558\n",
            "Epoch 14/25\n",
            "164/164 [==============================] - 84s 510ms/step - loss: 0.1562 - accuracy: 0.9422 - val_loss: 0.2166 - val_accuracy: 0.8766\n",
            "Epoch 15/25\n",
            "164/164 [==============================] - 84s 512ms/step - loss: 0.1539 - accuracy: 0.9443 - val_loss: 0.1102 - val_accuracy: 0.8061\n",
            "Epoch 16/25\n",
            "164/164 [==============================] - 83s 509ms/step - loss: 0.1446 - accuracy: 0.9451 - val_loss: 1.7010 - val_accuracy: 0.5385\n",
            "Epoch 17/25\n",
            "164/164 [==============================] - 83s 508ms/step - loss: 0.1461 - accuracy: 0.9419 - val_loss: 1.7891 - val_accuracy: 0.8574\n",
            "Epoch 18/25\n",
            "164/164 [==============================] - 83s 506ms/step - loss: 0.1367 - accuracy: 0.9491 - val_loss: 0.3806 - val_accuracy: 0.8606\n",
            "Epoch 19/25\n",
            "164/164 [==============================] - 84s 511ms/step - loss: 0.1382 - accuracy: 0.9507 - val_loss: 1.4348 - val_accuracy: 0.8189\n",
            "Epoch 20/25\n",
            "164/164 [==============================] - 83s 508ms/step - loss: 0.1464 - accuracy: 0.9518 - val_loss: 0.1821 - val_accuracy: 0.8910\n",
            "Epoch 21/25\n",
            "164/164 [==============================] - 83s 508ms/step - loss: 0.1442 - accuracy: 0.9451 - val_loss: 1.8316 - val_accuracy: 0.8333\n",
            "Epoch 22/25\n",
            "164/164 [==============================] - 84s 509ms/step - loss: 0.1301 - accuracy: 0.9509 - val_loss: 1.1617 - val_accuracy: 0.8462\n",
            "Epoch 23/25\n",
            "164/164 [==============================] - 84s 514ms/step - loss: 0.1295 - accuracy: 0.9486 - val_loss: 0.9742 - val_accuracy: 0.6795\n",
            "Epoch 24/25\n",
            "164/164 [==============================] - 83s 507ms/step - loss: 0.1346 - accuracy: 0.9522 - val_loss: 0.2350 - val_accuracy: 0.8526\n",
            "Epoch 25/25\n",
            "164/164 [==============================] - 83s 508ms/step - loss: 0.1297 - accuracy: 0.9501 - val_loss: 0.2220 - val_accuracy: 0.8013\n"
          ],
          "name": "stdout"
        }
      ]
    },
    {
      "cell_type": "code",
      "metadata": {
        "id": "4vl6zD1UY9le",
        "colab_type": "code",
        "colab": {}
      },
      "source": [
        "import numpy as np\n",
        "from keras.preprocessing import image\n",
        "test_image = image.load_img('gdrive/My Drive/xray/chest_xray/download.jpg', target_size = (150, 150))\n",
        "test_image = image.img_to_array(test_image)\n",
        "test_image = np.expand_dims(test_image, axis = 0)\n",
        "result = model.predict(test_image)\n",
        "training_set.class_indices\n"
      ],
      "execution_count": null,
      "outputs": []
    },
    {
      "cell_type": "code",
      "metadata": {
        "id": "1KoUCxnRZHm9",
        "colab_type": "code",
        "colab": {}
      },
      "source": [
        "if result[0][0] == 1:\n",
        "  prediction = 'normal'\n",
        "else:\n",
        "  prediction = 'pneumonia'  \n"
      ],
      "execution_count": null,
      "outputs": []
    },
    {
      "cell_type": "code",
      "metadata": {
        "id": "8gE9hK8QPO8E",
        "colab_type": "code",
        "colab": {}
      },
      "source": [
        "model.add(BatchNormalization())\n",
        "model.add(Dropout(0.25))"
      ],
      "execution_count": null,
      "outputs": []
    },
    {
      "cell_type": "code",
      "metadata": {
        "id": "JHvT1qno4r3-",
        "colab_type": "code",
        "colab": {}
      },
      "source": [
        "cnn = tf.keras.models.Sequential()"
      ],
      "execution_count": null,
      "outputs": []
    },
    {
      "cell_type": "code",
      "metadata": {
        "id": "7h-Tlc6u4s-L",
        "colab_type": "code",
        "colab": {}
      },
      "source": [
        "cnn.add(tf.keras.layers.Conv2D(filters=32, kernel_size=3, activation='relu', input_shape=[150, 150, 3]))"
      ],
      "execution_count": null,
      "outputs": []
    },
    {
      "cell_type": "code",
      "metadata": {
        "id": "eMlERaC046lN",
        "colab_type": "code",
        "colab": {}
      },
      "source": [
        "cnn.add(tf.keras.layers.MaxPool2D(pool_size=2, strides=2))"
      ],
      "execution_count": null,
      "outputs": []
    },
    {
      "cell_type": "code",
      "metadata": {
        "id": "ZcFmpNGH4_1m",
        "colab_type": "code",
        "colab": {}
      },
      "source": [
        "cnn.add(tf.keras.layers.Conv2D(filters=32, kernel_size=3, activation='relu'))\n",
        "cnn.add(tf.keras.layers.MaxPool2D(pool_size=2, strides=2))"
      ],
      "execution_count": null,
      "outputs": []
    },
    {
      "cell_type": "code",
      "metadata": {
        "id": "T_Zqloqv5CWY",
        "colab_type": "code",
        "colab": {}
      },
      "source": [
        "cnn.add(tf.keras.layers.Flatten())"
      ],
      "execution_count": null,
      "outputs": []
    },
    {
      "cell_type": "code",
      "metadata": {
        "id": "GA17vkW-5HFx",
        "colab_type": "code",
        "colab": {}
      },
      "source": [
        "cnn.add(tf.keras.layers.Dense(units=128, activation='relu'))"
      ],
      "execution_count": null,
      "outputs": []
    },
    {
      "cell_type": "code",
      "metadata": {
        "id": "JKShbNf05KOS",
        "colab_type": "code",
        "colab": {}
      },
      "source": [
        "cnn.add(tf.keras.layers.Dense(units=1, activation='sigmoid'))"
      ],
      "execution_count": null,
      "outputs": []
    },
    {
      "cell_type": "code",
      "metadata": {
        "id": "nt9UQJK45M2P",
        "colab_type": "code",
        "colab": {}
      },
      "source": [
        "cnn.compile(optimizer = 'rmsprop', loss = 'binary_crossentropy', metrics = ['accuracy'])"
      ],
      "execution_count": null,
      "outputs": []
    },
    {
      "cell_type": "code",
      "metadata": {
        "id": "z1YqALfc6FWJ",
        "colab_type": "code",
        "colab": {
          "base_uri": "https://localhost:8080/",
          "height": 394
        },
        "outputId": "7791b364-b5af-42a6-e0fa-bf9995d3c948"
      },
      "source": [
        "cnn.fit(x = training_set, validation_data = test_set, epochs = 10)"
      ],
      "execution_count": null,
      "outputs": [
        {
          "output_type": "stream",
          "text": [
            "Epoch 1/10\n",
            "164/164 [==============================] - 1281s 8s/step - loss: 0.5006 - accuracy: 0.8151 - val_loss: 0.3409 - val_accuracy: 0.8397\n",
            "Epoch 2/10\n",
            "164/164 [==============================] - 102s 621ms/step - loss: 0.2725 - accuracy: 0.8904 - val_loss: 0.6632 - val_accuracy: 0.7933\n",
            "Epoch 3/10\n",
            "164/164 [==============================] - 102s 621ms/step - loss: 0.2356 - accuracy: 0.9094 - val_loss: 0.6706 - val_accuracy: 0.8061\n",
            "Epoch 4/10\n",
            "164/164 [==============================] - 103s 630ms/step - loss: 0.1952 - accuracy: 0.9245 - val_loss: 0.3698 - val_accuracy: 0.8830\n",
            "Epoch 5/10\n",
            "164/164 [==============================] - 101s 618ms/step - loss: 0.1831 - accuracy: 0.9296 - val_loss: 0.4789 - val_accuracy: 0.8269\n",
            "Epoch 6/10\n",
            "164/164 [==============================] - 102s 622ms/step - loss: 0.1775 - accuracy: 0.9359 - val_loss: 0.3358 - val_accuracy: 0.8910\n",
            "Epoch 7/10\n",
            "164/164 [==============================] - 103s 626ms/step - loss: 0.1644 - accuracy: 0.9365 - val_loss: 0.6371 - val_accuracy: 0.8157\n",
            "Epoch 8/10\n",
            "164/164 [==============================] - 101s 619ms/step - loss: 0.1546 - accuracy: 0.9407 - val_loss: 0.5498 - val_accuracy: 0.8542\n",
            "Epoch 9/10\n",
            "164/164 [==============================] - 101s 619ms/step - loss: 0.1500 - accuracy: 0.9470 - val_loss: 0.6525 - val_accuracy: 0.8494\n",
            "Epoch 10/10\n",
            "164/164 [==============================] - 103s 625ms/step - loss: 0.1369 - accuracy: 0.9491 - val_loss: 0.3408 - val_accuracy: 0.9054\n"
          ],
          "name": "stdout"
        },
        {
          "output_type": "execute_result",
          "data": {
            "text/plain": [
              "<tensorflow.python.keras.callbacks.History at 0x7fe3521240f0>"
            ]
          },
          "metadata": {
            "tags": []
          },
          "execution_count": 77
        }
      ]
    },
    {
      "cell_type": "code",
      "metadata": {
        "id": "sov2ujbsSBE_",
        "colab_type": "code",
        "colab": {}
      },
      "source": [
        "import numpy as np\n",
        "from keras.preprocessing import image\n",
        "test_image = image.load_img('gdrive/My Drive/xray/chest_xray/download.jpg', target_size = (150, 150))\n",
        "test_image = image.img_to_array(test_image)\n",
        "test_image = np.expand_dims(test_image, axis = 0)\n",
        "result = cnn.predict(test_image)"
      ],
      "execution_count": null,
      "outputs": []
    },
    {
      "cell_type": "code",
      "metadata": {
        "id": "_IEyTWh8TMn0",
        "colab_type": "code",
        "colab": {
          "base_uri": "https://localhost:8080/",
          "height": 34
        },
        "outputId": "6d2dba59-7a9c-418b-9de4-0d6d7f80c370"
      },
      "source": [
        "print(result)"
      ],
      "execution_count": null,
      "outputs": [
        {
          "output_type": "stream",
          "text": [
            "[[1.]]\n"
          ],
          "name": "stdout"
        }
      ]
    }
  ]
}