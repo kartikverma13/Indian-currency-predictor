{
  "nbformat": 4,
  "nbformat_minor": 0,
  "metadata": {
    "colab": {
      "name": "Indian currency predictor.ipynb",
      "provenance": [],
      "toc_visible": true,
      "mount_file_id": "1VSWExJZ_tHypJWQfBGcB8vT358xv2OKZ",
      "authorship_tag": "ABX9TyNd1sKtM9DfRgAijyqYDsxm",
      "include_colab_link": true
    },
    "kernelspec": {
      "name": "python3",
      "display_name": "Python 3"
    },
    "accelerator": "GPU"
  },
  "cells": [
    {
      "cell_type": "markdown",
      "metadata": {
        "id": "view-in-github",
        "colab_type": "text"
      },
      "source": [
        "<a href=\"https://colab.research.google.com/github/kartikverma13/Indian-currency-predictor/blob/master/Indian_currency_predictor.ipynb\" target=\"_parent\"><img src=\"https://colab.research.google.com/assets/colab-badge.svg\" alt=\"Open In Colab\"/></a>"
      ]
    },
    {
      "cell_type": "code",
      "metadata": {
        "id": "5X3_pnysjEX8",
        "colab_type": "code",
        "colab": {
          "base_uri": "https://localhost:8080/",
          "height": 122
        },
        "outputId": "8fe62830-ab90-44ec-df3e-bec7ffe1c08d"
      },
      "source": [
        "from google.colab import drive\n",
        "drive.mount('/content/gdrive')"
      ],
      "execution_count": null,
      "outputs": [
        {
          "output_type": "stream",
          "text": [
            "Go to this URL in a browser: https://accounts.google.com/o/oauth2/auth?client_id=947318989803-6bn6qk8qdgf4n4g3pfee6491hc0brc4i.apps.googleusercontent.com&redirect_uri=urn%3aietf%3awg%3aoauth%3a2.0%3aoob&response_type=code&scope=email%20https%3a%2f%2fwww.googleapis.com%2fauth%2fdocs.test%20https%3a%2f%2fwww.googleapis.com%2fauth%2fdrive%20https%3a%2f%2fwww.googleapis.com%2fauth%2fdrive.photos.readonly%20https%3a%2f%2fwww.googleapis.com%2fauth%2fpeopleapi.readonly\n",
            "\n",
            "Enter your authorization code:\n",
            "··········\n",
            "Mounted at /content/gdrive\n"
          ],
          "name": "stdout"
        }
      ]
    },
    {
      "cell_type": "code",
      "metadata": {
        "id": "dueFAiCddPWx",
        "colab_type": "code",
        "colab": {
          "base_uri": "https://localhost:8080/",
          "height": 34
        },
        "outputId": "fae17e4c-cf93-4732-8944-70bf0024cd68"
      },
      "source": [
        "import tensorflow as tf\n",
        "from keras.preprocessing.image import ImageDataGenerator"
      ],
      "execution_count": null,
      "outputs": [
        {
          "output_type": "stream",
          "text": [
            "Using TensorFlow backend.\n"
          ],
          "name": "stderr"
        }
      ]
    },
    {
      "cell_type": "code",
      "metadata": {
        "id": "bj47qcFcde_s",
        "colab_type": "code",
        "colab": {
          "base_uri": "https://localhost:8080/",
          "height": 35
        },
        "outputId": "fb019c5a-0985-4ec6-e69b-31a47e836f9c"
      },
      "source": [
        "tf.__version__"
      ],
      "execution_count": null,
      "outputs": [
        {
          "output_type": "execute_result",
          "data": {
            "application/vnd.google.colaboratory.intrinsic": {
              "type": "string"
            },
            "text/plain": [
              "'2.2.0'"
            ]
          },
          "metadata": {
            "tags": []
          },
          "execution_count": 3
        }
      ]
    },
    {
      "cell_type": "code",
      "metadata": {
        "id": "fYKVR6PPdqtb",
        "colab_type": "code",
        "colab": {
          "base_uri": "https://localhost:8080/",
          "height": 34
        },
        "outputId": "53b63de4-6ba2-4065-996a-b9f3cc674271"
      },
      "source": [
        "train_datagen = ImageDataGenerator(rescale = 1./255,\n",
        "                                   shear_range = 0.2,\n",
        "                                   zoom_range = 0.2,\n",
        "                                   horizontal_flip = True)\n",
        "\n",
        "training_set = train_datagen.flow_from_directory('gdrive/My Drive/indian_currency_new/training',\n",
        "                                                 target_size = (64, 64),\n",
        "                                                 batch_size = 32,\n",
        "                                                 class_mode = 'binary')"
      ],
      "execution_count": null,
      "outputs": [
        {
          "output_type": "stream",
          "text": [
            "Found 584 images belonging to 7 classes.\n"
          ],
          "name": "stdout"
        }
      ]
    },
    {
      "cell_type": "code",
      "metadata": {
        "id": "KTbAMUXIfneh",
        "colab_type": "code",
        "colab": {
          "base_uri": "https://localhost:8080/",
          "height": 34
        },
        "outputId": "11888e68-f4db-411f-ba25-29ffc2bac183"
      },
      "source": [
        "test_datagen = ImageDataGenerator(rescale = 1./255)\n",
        "test_set = test_datagen.flow_from_directory('gdrive/My Drive/indian_currency_new/validation',\n",
        "                                            target_size = (64, 64),\n",
        "                                            batch_size = 32,\n",
        "                                            class_mode = 'binary')"
      ],
      "execution_count": null,
      "outputs": [
        {
          "output_type": "stream",
          "text": [
            "Found 167 images belonging to 7 classes.\n"
          ],
          "name": "stdout"
        }
      ]
    },
    {
      "cell_type": "code",
      "metadata": {
        "id": "wsbjQh6Pj3Ie",
        "colab_type": "code",
        "colab": {}
      },
      "source": [
        "cnn = tf.keras.models.Sequential()"
      ],
      "execution_count": null,
      "outputs": []
    },
    {
      "cell_type": "code",
      "metadata": {
        "id": "rQOu20owj7wb",
        "colab_type": "code",
        "colab": {}
      },
      "source": [
        "cnn.add(tf.keras.layers.Conv2D(filters=64, kernel_size=3, activation='relu', input_shape=[64, 64, 3]))"
      ],
      "execution_count": null,
      "outputs": []
    },
    {
      "cell_type": "code",
      "metadata": {
        "id": "ZdQyg5lhvJJ_",
        "colab_type": "code",
        "colab": {}
      },
      "source": [
        "cnn.add(tf.keras.layers.Conv2D(filters=32, kernel_size=5, activation='relu'))\n",
        "cnn.add(tf.keras.layers.MaxPool2D(pool_size=2, strides=2))"
      ],
      "execution_count": null,
      "outputs": []
    },
    {
      "cell_type": "code",
      "metadata": {
        "id": "3odpk1YQvR4j",
        "colab_type": "code",
        "colab": {}
      },
      "source": [
        "cnn.add(tf.keras.layers.Flatten())"
      ],
      "execution_count": null,
      "outputs": []
    },
    {
      "cell_type": "code",
      "metadata": {
        "id": "sSPjbM0UvZcB",
        "colab_type": "code",
        "colab": {}
      },
      "source": [
        "cnn.add(tf.keras.layers.Dense(units=128, activation='relu'))"
      ],
      "execution_count": null,
      "outputs": []
    },
    {
      "cell_type": "code",
      "metadata": {
        "id": "RX3tjMr7vk0K",
        "colab_type": "code",
        "colab": {}
      },
      "source": [
        "cnn.add(tf.keras.layers.Dense(units=7, activation='softmax'))"
      ],
      "execution_count": null,
      "outputs": []
    },
    {
      "cell_type": "code",
      "metadata": {
        "id": "SVEXpdB-wzE3",
        "colab_type": "code",
        "colab": {}
      },
      "source": [
        "cnn.compile(optimizer = 'adam', loss = 'sparse_categorical_crossentropy', metrics = ['accuracy'])"
      ],
      "execution_count": null,
      "outputs": []
    },
    {
      "cell_type": "code",
      "metadata": {
        "id": "wNUW72AG1_VZ",
        "colab_type": "code",
        "colab": {
          "base_uri": "https://localhost:8080/",
          "height": 904
        },
        "outputId": "a08c1687-dcf4-41f7-cf49-6c0f85f21337"
      },
      "source": [
        "cnn.fit(x = training_set, validation_data = test_set, epochs = 25)"
      ],
      "execution_count": null,
      "outputs": [
        {
          "output_type": "stream",
          "text": [
            "Epoch 1/25\n",
            "19/19 [==============================] - 370s 19s/step - loss: 2.0925 - accuracy: 0.1233 - val_loss: 1.9420 - val_accuracy: 0.2156\n",
            "Epoch 2/25\n",
            "19/19 [==============================] - 15s 811ms/step - loss: 1.9418 - accuracy: 0.1661 - val_loss: 1.9390 - val_accuracy: 0.2335\n",
            "Epoch 3/25\n",
            "19/19 [==============================] - 15s 811ms/step - loss: 1.9083 - accuracy: 0.1798 - val_loss: 1.7706 - val_accuracy: 0.2036\n",
            "Epoch 4/25\n",
            "19/19 [==============================] - 14s 761ms/step - loss: 1.9218 - accuracy: 0.2038 - val_loss: 1.8947 - val_accuracy: 0.2754\n",
            "Epoch 5/25\n",
            "19/19 [==============================] - 16s 826ms/step - loss: 1.7552 - accuracy: 0.2945 - val_loss: 1.6006 - val_accuracy: 0.3114\n",
            "Epoch 6/25\n",
            "19/19 [==============================] - 15s 808ms/step - loss: 1.6910 - accuracy: 0.3271 - val_loss: 1.8167 - val_accuracy: 0.2515\n",
            "Epoch 7/25\n",
            "19/19 [==============================] - 14s 757ms/step - loss: 1.8333 - accuracy: 0.2723 - val_loss: 1.7875 - val_accuracy: 0.2874\n",
            "Epoch 8/25\n",
            "19/19 [==============================] - 15s 773ms/step - loss: 1.6740 - accuracy: 0.3425 - val_loss: 1.5403 - val_accuracy: 0.3713\n",
            "Epoch 9/25\n",
            "19/19 [==============================] - 15s 783ms/step - loss: 1.5565 - accuracy: 0.3938 - val_loss: 1.4761 - val_accuracy: 0.4431\n",
            "Epoch 10/25\n",
            "19/19 [==============================] - 15s 797ms/step - loss: 1.4636 - accuracy: 0.4281 - val_loss: 1.5106 - val_accuracy: 0.4371\n",
            "Epoch 11/25\n",
            "19/19 [==============================] - 15s 785ms/step - loss: 1.4090 - accuracy: 0.4349 - val_loss: 1.1849 - val_accuracy: 0.5389\n",
            "Epoch 12/25\n",
            "19/19 [==============================] - 16s 818ms/step - loss: 1.2496 - accuracy: 0.5360 - val_loss: 1.0888 - val_accuracy: 0.5569\n",
            "Epoch 13/25\n",
            "19/19 [==============================] - 15s 769ms/step - loss: 1.1028 - accuracy: 0.5753 - val_loss: 1.0152 - val_accuracy: 0.5988\n",
            "Epoch 14/25\n",
            "19/19 [==============================] - 15s 783ms/step - loss: 1.0277 - accuracy: 0.6370 - val_loss: 1.2375 - val_accuracy: 0.5868\n",
            "Epoch 15/25\n",
            "19/19 [==============================] - 15s 794ms/step - loss: 1.0901 - accuracy: 0.6113 - val_loss: 0.9301 - val_accuracy: 0.6647\n",
            "Epoch 16/25\n",
            "19/19 [==============================] - 15s 781ms/step - loss: 0.8513 - accuracy: 0.6884 - val_loss: 0.8053 - val_accuracy: 0.6826\n",
            "Epoch 17/25\n",
            "19/19 [==============================] - 15s 787ms/step - loss: 0.7347 - accuracy: 0.7123 - val_loss: 0.7109 - val_accuracy: 0.7485\n",
            "Epoch 18/25\n",
            "19/19 [==============================] - 15s 795ms/step - loss: 0.6970 - accuracy: 0.7363 - val_loss: 0.7308 - val_accuracy: 0.7305\n",
            "Epoch 19/25\n",
            "19/19 [==============================] - 15s 775ms/step - loss: 0.6148 - accuracy: 0.7979 - val_loss: 0.5392 - val_accuracy: 0.8144\n",
            "Epoch 20/25\n",
            "19/19 [==============================] - 15s 790ms/step - loss: 0.4968 - accuracy: 0.8116 - val_loss: 0.5052 - val_accuracy: 0.8263\n",
            "Epoch 21/25\n",
            "19/19 [==============================] - 15s 769ms/step - loss: 0.4256 - accuracy: 0.8373 - val_loss: 0.4233 - val_accuracy: 0.8383\n",
            "Epoch 22/25\n",
            "19/19 [==============================] - 15s 785ms/step - loss: 0.4024 - accuracy: 0.8373 - val_loss: 0.6421 - val_accuracy: 0.8024\n",
            "Epoch 23/25\n",
            "19/19 [==============================] - 14s 748ms/step - loss: 0.5163 - accuracy: 0.8168 - val_loss: 0.4451 - val_accuracy: 0.8263\n",
            "Epoch 24/25\n",
            "19/19 [==============================] - 14s 761ms/step - loss: 0.4516 - accuracy: 0.8442 - val_loss: 0.4751 - val_accuracy: 0.8263\n",
            "Epoch 25/25\n",
            "19/19 [==============================] - 15s 774ms/step - loss: 0.3779 - accuracy: 0.8647 - val_loss: 0.3266 - val_accuracy: 0.8862\n"
          ],
          "name": "stdout"
        },
        {
          "output_type": "execute_result",
          "data": {
            "text/plain": [
              "<tensorflow.python.keras.callbacks.History at 0x7fb5ff64d710>"
            ]
          },
          "metadata": {
            "tags": []
          },
          "execution_count": 15
        }
      ]
    },
    {
      "cell_type": "code",
      "metadata": {
        "id": "wBGmB5v-5V_S",
        "colab_type": "code",
        "colab": {}
      },
      "source": [
        "import numpy as np\n",
        "from keras.preprocessing import image\n",
        "test_image = image.load_img('gdrive/My Drive/indian_currency_new/10.jpg', target_size = (64, 64))\n",
        "test_image = image.img_to_array(test_image)\n",
        "test_image = np.expand_dims(test_image, axis = 0)\n",
        "result = cnn.predict(test_image)\n"
      ],
      "execution_count": null,
      "outputs": []
    },
    {
      "cell_type": "code",
      "metadata": {
        "id": "VCw3PTjh7T5M",
        "colab_type": "code",
        "colab": {
          "base_uri": "https://localhost:8080/",
          "height": 34
        },
        "outputId": "1aa159b6-30e4-43b8-f7a3-c864ccd57095"
      },
      "source": [
        "print(result)"
      ],
      "execution_count": null,
      "outputs": [
        {
          "output_type": "stream",
          "text": [
            "[[1. 0. 0. 0. 0. 0. 0.]]\n"
          ],
          "name": "stdout"
        }
      ]
    }
  ]
}